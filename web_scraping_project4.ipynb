{
 "cells": [
  {
   "cell_type": "markdown",
   "metadata": {},
   "source": [
    "# Project4"
   ]
  },
  {
   "cell_type": "code",
   "execution_count": null,
   "metadata": {},
   "outputs": [],
   "source": [
    "\"\"\"\n",
    "In this project we scrape questions and their examples from the coding bat website\n",
    "\"\"\"\n",
    "import requests\n",
    "from bs4 import BeautifulSoup\n",
    "from fake_useragent import UserAgent\n",
    "\n",
    "\n",
    "user_agent = UserAgent()\n",
    "main_url = 'http://codingbat.com/java'\n",
    "page = requests.get(main_url,headers={'user-agent':user_agent.chrome})\n",
    "soup = BeautifulSoup(page.content,'lxml')\n",
    "\n",
    "base_url = 'http://codingbat.com'\n",
    "\n",
    "all_divs = soup.find_all('div',class_='summ')\n",
    "\n",
    "all_links = [base_url + div.a['href'] for div in all_divs]\n",
    "\n",
    "\n",
    "# part 2\n",
    "\n",
    "for link in all_links:\n",
    "    inner_page = requests.get(link,headers={'user-agent':user_agent.chrome})\n",
    "    inner_soup = BeautifulSoup(inner_page.content,'lxml')\n",
    "    div = inner_soup.find('div',class_='tabc')\n",
    "    question_links = [base_url + td.a['href'] for td in div.table.find_all('td')]\n",
    "\n",
    "\n",
    "# part 3\n",
    "\n",
    "    for question_link in question_links:\n",
    "        final_page = requests.get(question_link)\n",
    "        final_soup = BeautifulSoup(final_page.content, 'lxml')\n",
    "        indent_div = final_soup.find('div', attrs={'class':'indent'})\n",
    "        problem_statement = indent_div.table.div.string\n",
    "\n",
    "\n",
    "        siblings_of_statement = indent_div.table.div.next_siblings\n",
    "\n",
    "        examples = [sibling for sibling in siblings_of_statement if sibling.string is not None]\n",
    "\n",
    "        print(problem_statement)\n",
    "        for example in examples:\n",
    "            print(example)\n",
    "\n",
    "        print('\\n\\n\\n')\n",
    "\n"
   ]
  }
 ],
 "metadata": {
  "kernelspec": {
   "display_name": "Python 3",
   "language": "python",
   "name": "python3"
  },
  "language_info": {
   "codemirror_mode": {
    "name": "ipython",
    "version": 3
   },
   "file_extension": ".py",
   "mimetype": "text/x-python",
   "name": "python",
   "nbconvert_exporter": "python",
   "pygments_lexer": "ipython3",
   "version": "3.7.3"
  }
 },
 "nbformat": 4,
 "nbformat_minor": 2
}
