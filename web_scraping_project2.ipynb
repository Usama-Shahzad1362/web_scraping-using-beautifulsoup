{
 "cells": [
  {
   "cell_type": "markdown",
   "metadata": {},
   "source": [
    "# Project2"
   ]
  },
  {
   "cell_type": "code",
   "execution_count": null,
   "metadata": {},
   "outputs": [],
   "source": [
    "# download the weather file and save it in the local drive \n",
    "\n",
    "\n",
    "import requests \n",
    "from fake_useragent import UserAgent\n",
    "\n",
    "user_agent = UserAgent()\n",
    "header = {'user_agent':user_agent.chrome}\n",
    "url = 'https://forecast.weather.gov/MapClick.php?lat=35.050140000000056&lon=-81.22479999999996'\n",
    "res = requests.get(url,headers = header)\n",
    "res.raise_for_status()\n",
    "scrape_File = open('weather.txt', 'wb')\n",
    "for chunk in res.iter_content(100000):\n",
    "    scrape_File.write(chunk)   \n",
    "scrape_File.close()\n"
   ]
  },
  {
   "cell_type": "code",
   "execution_count": null,
   "metadata": {},
   "outputs": [],
   "source": [
    "# scrape the weather of one week and store it in the csv file using pandas\n",
    "\n",
    "import pandas as pd\n",
    "from bs4 import BeautifulSoup\n",
    "\n",
    "def readfile():\n",
    "    file = open(\"weather.txt\")\n",
    "    data = file.read()\n",
    "    file.close()\n",
    "    return data \n",
    "\n",
    "soup = BeautifulSoup(readfile(),\"lxml\")\n",
    "\n",
    "week = soup.find_all(id = \"seven-day-forecast-container\")\n",
    "items = soup.find_all(class_=\"tombstone-container\")\n",
    "days = [item.find(class_=\"period-name\").get_text()  for item in items]\n",
    "desc = [item.find(class_=\"short-desc\").get_text()  for item in items]\n",
    "temperatures = [item.find(class_=\"temp\").get_text() for item in items]\n",
    "\n",
    "weather_stuff = pd.DataFrame({\"Days\":days,\n",
    "                            \"Short_Description\":desc,\n",
    "                            \"Temperatures\":temperatures,})\n",
    "\n",
    "print(weather_stuff)\n",
    "\n",
    "weather_stuff.to_csv(\"weather.csv\")"
   ]
  }
 ],
 "metadata": {
  "kernelspec": {
   "display_name": "Python 3",
   "language": "python",
   "name": "python3"
  },
  "language_info": {
   "codemirror_mode": {
    "name": "ipython",
    "version": 3
   },
   "file_extension": ".py",
   "mimetype": "text/x-python",
   "name": "python",
   "nbconvert_exporter": "python",
   "pygments_lexer": "ipython3",
   "version": "3.7.3"
  }
 },
 "nbformat": 4,
 "nbformat_minor": 2
}
