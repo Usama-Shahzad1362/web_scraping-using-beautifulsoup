{
 "cells": [
  {
   "cell_type": "markdown",
   "metadata": {},
   "source": [
    "# Project1"
   ]
  },
  {
   "cell_type": "code",
   "execution_count": 1,
   "metadata": {},
   "outputs": [],
   "source": [
    "# download the file and store it in the local drive using requests and fake_useragent\n",
    "\n",
    "import requests\n",
    "from fake_useragent import UserAgent\n",
    "user_agent = UserAgent()\n",
    "header = {\"user_agent\":user_agent.chrome}\n",
    "url = 'http://www.consumerreports.org/cro/a-to-z-index/products/index.htm'\n",
    "res = requests.get(url,headers = header)\n",
    "res.raise_for_status()\n",
    "playFile = open('store.txt', 'wb')\n",
    "for chunk in res.iter_content(100000):\n",
    "    playFile.write(chunk)   \n",
    "playFile.close()"
   ]
  },
  {
   "cell_type": "code",
   "execution_count": 2,
   "metadata": {},
   "outputs": [],
   "source": [
    "# scrape all the products_name and link from specific url and then store the output in csv file\n",
    "from bs4 import BeautifulSoup\n",
    "from csv import writer\n",
    "\n",
    "def readfile():\n",
    "    file = open(\"store.txt\")\n",
    "    data = file.read()\n",
    "    return data \n",
    "    file.close()\n",
    "soup = BeautifulSoup(readfile(),\"lxml\")\n",
    "\n",
    "with open('products.csv', 'w') as csv_file:\n",
    "    csv_writer = writer(csv_file)\n",
    "    headers = ['Product_Name','Link']\n",
    "    csv_writer.writerow(headers)\n",
    "# we find all the name and links and then store them in csv file\n",
    "\n",
    "    divs = soup.find_all(\"div\",attrs = {\"class\":\"crux-body-copy\"})\n",
    "    for div in divs:\n",
    "        product_name = div.find(\"a\",attrs ={\"class\":\"products-a-z__results__item\"}).string.strip()\n",
    "        link = div.find(\"a\")['href']\n",
    "        csv_writer.writerow([product_name,link])"
   ]
  }
 ],
 "metadata": {
  "kernelspec": {
   "display_name": "Python 3",
   "language": "python",
   "name": "python3"
  },
  "language_info": {
   "codemirror_mode": {
    "name": "ipython",
    "version": 3
   },
   "file_extension": ".py",
   "mimetype": "text/x-python",
   "name": "python",
   "nbconvert_exporter": "python",
   "pygments_lexer": "ipython3",
   "version": "3.7.3"
  }
 },
 "nbformat": 4,
 "nbformat_minor": 2
}
